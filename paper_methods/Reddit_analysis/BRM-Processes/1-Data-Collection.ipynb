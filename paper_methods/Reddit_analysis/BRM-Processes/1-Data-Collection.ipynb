{
 "cells": [
  {
   "cell_type": "markdown",
   "metadata": {
    "collapsed": true,
    "pycharm": {
     "name": "#%% md\n"
    }
   },
   "source": [
    "# Data Collection: Reddit Scraping using Praw API"
   ]
  },
  {
   "cell_type": "code",
   "execution_count": null,
   "metadata": {
    "pycharm": {
     "name": "#%%\n"
    }
   },
   "outputs": [],
   "source": [
    "import sys\n",
    "sys.path.append('..')\n",
    "\n",
    "import pandas as pd\n",
    "import numpy as np\n",
    "from webscrapers.reddit.reddit_bot import *"
   ]
  },
  {
   "cell_type": "markdown",
   "source": [
    "### Searching for Posts Concerning a Given Topic"
   ],
   "metadata": {
    "collapsed": false
   }
  },
  {
   "cell_type": "markdown",
   "source": [
    "We start off by selecting a keyword we're interested in and designating which subreddits we want data from."
   ],
   "metadata": {
    "collapsed": false
   }
  },
  {
   "cell_type": "code",
   "execution_count": null,
   "outputs": [],
   "source": [
    "key_word = 'women'\n",
    "subreddits = ['MensLib', 'MensRights', 'Feminism']\n",
    "\n",
    "subms = []\n",
    "for subreddit in subreddits:\n",
    "    sub = bot.subreddit(subreddit)\n",
    "    subms += [submission.id for submission in list(sub.search(key_word, sort=\"comments\", time_filter=\"month\", limit=3))]\n",
    "\n",
    "subms = [flatten_comment_tree(bot.submission(id=_id)) for _id in subms]\n",
    "subms = pd.concat(subms, ignore_index=True)"
   ],
   "metadata": {
    "collapsed": false,
    "pycharm": {
     "name": "#%%\n"
    }
   }
  },
  {
   "cell_type": "markdown",
   "source": [
    "And we then save the data to its appropriate folder."
   ],
   "metadata": {
    "collapsed": false
   }
  },
  {
   "cell_type": "code",
   "execution_count": null,
   "outputs": [],
   "source": [
    "subms.to_csv(\n",
    "    \"data/scrape_data/reddit-data.tsv\",\n",
    "    index=False,\n",
    "    encoding='utf-8',\n",
    "    sep='\\t'\n",
    ")"
   ],
   "metadata": {
    "collapsed": false,
    "pycharm": {
     "name": "#%%\n"
    }
   }
  }
 ],
 "metadata": {
  "kernelspec": {
   "display_name": "Python 3 (ipykernel)",
   "language": "python",
   "name": "python3"
  },
  "language_info": {
   "codemirror_mode": {
    "name": "ipython",
    "version": 3
   },
   "file_extension": ".py",
   "mimetype": "text/x-python",
   "name": "python",
   "nbconvert_exporter": "python",
   "pygments_lexer": "ipython3",
   "version": "3.9.0"
  }
 },
 "nbformat": 4,
 "nbformat_minor": 1
}