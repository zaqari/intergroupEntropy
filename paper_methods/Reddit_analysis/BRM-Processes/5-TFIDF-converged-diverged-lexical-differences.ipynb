{
 "cells": [
  {
   "cell_type": "markdown",
   "metadata": {
    "collapsed": true,
    "pycharm": {
     "name": "#%% md\n"
    },
    "id": "QPuPysHPvSoR"
   },
   "source": [
    "# Qualitative Difference btw Convergent and Divergent Comments"
   ]
  },
  {
   "cell_type": "code",
   "execution_count": 1,
   "outputs": [],
   "source": [
    "import sys\n",
    "sys.path.append('..')\n",
    "\n",
    "import numpy as np\n",
    "import pandas as pd\n",
    "import nltk.data\n",
    "from mod.clustering.TFIDF import TFIDF\n",
    "import regex as re\n",
    "\n",
    "sent_tokenizer = nltk.data.load('tokenizers/punkt/english.pickle')\n",
    "\n",
    "df = pd.read_csv(\"/Volumes/ROY/comp_ling/datasci/SIS/data/reddit_feminism/individual_comparisons-3.csv\")\n",
    "df = df.loc[df['x_user'] != df['y_user']]\n",
    "df = df.loc[~df['x_user'].isin([np.nan]) & ~df['y_user'].isin([np.nan])]\n",
    "df['n'] = df['n'].astype(int)\n",
    "df = df.loc[(df['n'] > 5)]\n",
    "# df = df.loc[df['y_user'].isin(df['x_user'].unique())]\n",
    "\n",
    "df['comment_delta'] = (df['x_comment_no'] - df['y_comment_no'])\n",
    "df = df.loc[\n",
    "    ((df['comment_delta'] > -21) & (df['comment_delta'] < 21))\n",
    "    & (df['comment_delta'] != 0)\n",
    "]\n",
    "df['comment_delta_abs'] = df['comment_delta'].abs()\n",
    "\n",
    "# convert user ids to numerical indicator\n",
    "# user_dic = {x:i for i,x in enumerate(df['x_user'].unique())}\n",
    "user_dic = {x:i for i,x in enumerate(np.unique(df[['x_user', 'y_user']].values.astype(str)))}\n",
    "df['x_user'] = df['x_user'].apply(lambda x: user_dic[x])\n",
    "df['y_user'] = df['y_user'].apply(lambda x: user_dic[x])\n",
    "\n",
    "# convert subreddit ids to numerical indicator\n",
    "#   AND check if two comments are from same subreddit\n",
    "subreddit_dic = {x:i for i,x in enumerate(df['x_subreddit'].unique())}\n",
    "df['x_subreddit'] = df['x_subreddit'].apply(lambda x: subreddit_dic[x])\n",
    "df['y_subreddit'] = df['y_subreddit'].apply(lambda x: subreddit_dic[x])\n",
    "df['same_subreddit'] = (df['x_subreddit'] == df['y_subreddit']).astype(int) + 1\n",
    "\n",
    "# df['same_post'] = (df['x_sub_id'] == df['y_sub_id']).astype(int) + 1\n",
    "df['same_post'] = (df['x_post_id'] == df['y_post_id']).astype(int) + 1\n",
    "df['t_delta'] = (df['xtime'] - df['ytime'])\n",
    "df['t_delta_abs'] = df['t_delta'].abs()\n",
    "# df['post_t_delta'] = (df['x_post_time'] - df['y_post_time']).abs()\n",
    "df['avgH'] = df['H']/df['n']"
   ],
   "metadata": {
    "pycharm": {
     "name": "#%%\n"
    },
    "id": "88upfPS1vSoU"
   }
  },
  {
   "cell_type": "markdown",
   "source": [],
   "metadata": {
    "collapsed": false,
    "id": "9vXHAFJOvSoW"
   }
  },
  {
   "cell_type": "code",
   "execution_count": 2,
   "outputs": [],
   "source": [
    "dft = pd.read_table('/Volumes/ROY/comp_ling/datasci/SIS/data/reddit_feminism/reddit_with_authors.tsv', lineterminator='\\n') # import text corpus"
   ],
   "metadata": {
    "pycharm": {
     "name": "#%%\n"
    },
    "id": "XxtuvNdXvSoW"
   }
  },
  {
   "cell_type": "markdown",
   "source": [],
   "metadata": {
    "collapsed": false,
    "id": "BsTZuyJSvSoW"
   }
  },
  {
   "cell_type": "code",
   "execution_count": 3,
   "outputs": [],
   "source": [
    "cross_posts = False     # just checks across posts in n = {-1,1}\n",
    "both_crit = True        # checks across posts and time series where n = {(n < -1) (n > 1)}\n",
    "                        # otherwise, just check in same post, where n = {(n < -1) (n > 1)}"
   ],
   "metadata": {
    "pycharm": {
     "name": "#%%\n"
    },
    "id": "NxWMnSbWvSoW"
   }
  },
  {
   "cell_type": "markdown",
   "source": [
    "## r/MensLib"
   ],
   "metadata": {
    "collapsed": false,
    "id": "QXfn4NYPvSoX"
   }
  },
  {
   "cell_type": "code",
   "execution_count": 4,
   "outputs": [
    {
     "name": "stderr",
     "output_type": "stream",
     "text": [
      "/var/folders/bb/jfrx00ms7pv_jyvncsrvvlvm0000gn/T/ipykernel_5452/1512609551.py:17: SettingWithCopyWarning: \n",
      "A value is trying to be set on a copy of a slice from a DataFrame\n",
      "\n",
      "See the caveats in the documentation: https://pandas.pydata.org/pandas-docs/stable/user_guide/indexing.html#returning-a-view-versus-a-copy\n",
      "  dml['y_subreddit'].loc[\n",
      "/var/folders/bb/jfrx00ms7pv_jyvncsrvvlvm0000gn/T/ipykernel_5452/1512609551.py:22: SettingWithCopyWarning: \n",
      "A value is trying to be set on a copy of a slice from a DataFrame\n",
      "\n",
      "See the caveats in the documentation: https://pandas.pydata.org/pandas-docs/stable/user_guide/indexing.html#returning-a-view-versus-a-copy\n",
      "  dml['y_subreddit'].loc[~dml['y_subreddit'].isin(['converged'])] = 'did-not-converge'\n"
     ]
    }
   ],
   "source": [
    "if cross_posts:\n",
    "    dml = df.loc[\n",
    "        df['x_subreddit'].isin([2])\n",
    "        & df['y_subreddit'].isin([2])\n",
    "        & df['comment_delta'].isin([-1,1])\n",
    "    ]\n",
    "\n",
    "    dml['y_subreddit'].loc[dml['x_post_id'] == dml['y_post_id']] = 'converged'\n",
    "    dml['y_subreddit'].loc[dml['x_post_id'] != dml['y_post_id']] = 'did-not-converge'\n",
    "\n",
    "elif both_crit:\n",
    "    dml = df.loc[\n",
    "        df['x_subreddit'].isin([2])\n",
    "        & df['y_subreddit'].isin([2])\n",
    "    ]\n",
    "\n",
    "    dml['y_subreddit'].loc[\n",
    "        (dml['x_post_id'] == dml['y_post_id']) \n",
    "        & df['comment_delta'].isin([-1,1])\n",
    "    ] = 'converged'\n",
    "    \n",
    "    dml['y_subreddit'].loc[~dml['y_subreddit'].isin(['converged'])] = 'did-not-converge'\n",
    "\n",
    "else:\n",
    "    dml = df.loc[\n",
    "        df['x_subreddit'].isin([2])\n",
    "        & df['y_subreddit'].isin([2])\n",
    "        & df['same_post'].isin([2])\n",
    "    ]\n",
    "    dml['y_subreddit'].loc[dml['comment_delta'].isin([-1,1])] = 'converged'\n",
    "    dml['y_subreddit'].loc[~dml['comment_delta'].isin([-1,1])] = 'did-not-converge'\n"
   ],
   "metadata": {
    "pycharm": {
     "name": "#%%\n"
    },
    "id": "ra9Wg1csvSoX",
    "outputId": "7b434daa-cd74-4852-83bc-128ad1224abe"
   }
  },
  {
   "cell_type": "markdown",
   "source": [
    "set up the data for TF-IDF"
   ],
   "metadata": {
    "collapsed": false,
    "id": "SLXqMKmcvSoY"
   }
  },
  {
   "cell_type": "code",
   "execution_count": 5,
   "outputs": [],
   "source": [
    "dml_ = []\n",
    "for xid in dml['x'].unique():\n",
    "    text = dft['body'].loc[int(xid)]\n",
    "    \n",
    "    sel = dml['x'].isin([xid])\n",
    "    \n",
    "    minima = dml['avgH'].loc[sel].values.argmin()\n",
    "    label = dml['y_subreddit'].loc[sel].values[minima]\n",
    "    dml_ +=[[xid, str(text), label]]\n",
    "dml_ = pd.DataFrame(np.array(dml_), columns=['x', 'body', 'label'])"
   ],
   "metadata": {
    "pycharm": {
     "name": "#%%\n"
    },
    "id": "62jggQHYvSoY"
   }
  },
  {
   "cell_type": "code",
   "execution_count": 6,
   "outputs": [],
   "source": [
    "ml_tfidf = TFIDF(dml_, 'body', 'label')"
   ],
   "metadata": {
    "pycharm": {
     "name": "#%%\n"
    },
    "id": "vQAAJZesvSoZ"
   }
  },
  {
   "cell_type": "code",
   "execution_count": 7,
   "outputs": [
    {
     "data": {
      "text/plain": "{'converged': [('movies', 0.03336759803473893),\n  ('feminine', 0.027945022814729582),\n  ('masculine', 0.01993597490440445),\n  ('10', 0.01969136354458742),\n  ('like', 0.015837781319078485)],\n 'did-not-converge': [('people', 0.010915101842373758),\n  ('think', 0.010784399421608366),\n  ('just', 0.010689894455390753),\n  ('quote', 0.010649027606887535),\n  ('like', 0.010623469675584508)]}"
     },
     "execution_count": 7,
     "metadata": {},
     "output_type": "execute_result"
    }
   ],
   "source": [
    "ml_tfidf.extract_top_n_words_per_topic(5)"
   ],
   "metadata": {
    "pycharm": {
     "name": "#%%\n"
    },
    "id": "xOo3JGCYvSoZ",
    "outputId": "085ae793-0bc9-4af5-b8b6-6287d229c751"
   }
  },
  {
   "cell_type": "code",
   "execution_count": 8,
   "outputs": [],
   "source": [
    "df_ml_tf_long, df_ml_tf_short = [],[]\n",
    "for k,v in ml_tfidf.extract_top_n_words_per_topic(5).items():\n",
    "    sub = dml_.loc[dml_['label'].isin([k])]\n",
    "    for w in v:\n",
    "        sel = sub['body'].apply(lambda x: w[0] in x)\n",
    "        texts = sub['body'].loc[sel].values\n",
    "\n",
    "        body = [[sent for sent in sent_tokenizer.tokenize(text) if w[0] in sent][0] for text in texts]\n",
    "\n",
    "        if len(body) > 3:\n",
    "            body = np.random.choice(body, size=(3,), replace=False)\n",
    "\n",
    "        df_ml_tf_short += [[k, w[0], sent.replace('\\n', ' ').replace('<QUOTE>', '')] for sent in body]\n",
    "        df_ml_tf_long += [[k, w[0], text.replace('\\n', ' ').replace('<QUOTE>', '')] for text in texts]\n",
    "\n",
    "df_ml_tf_long, df_ml_tf_short = np.array(df_ml_tf_long), np.array(df_ml_tf_short)\n",
    "df_ml_tf_long, df_ml_tf_short = pd.DataFrame(df_ml_tf_long, columns=['label', 'lexeme', 'example']), pd.DataFrame(df_ml_tf_short, columns=['label', 'lexeme', 'example'])"
   ],
   "metadata": {
    "pycharm": {
     "name": "#%%\n"
    },
    "id": "tfmveQnnvSoZ"
   }
  },
  {
   "cell_type": "code",
   "execution_count": 9,
   "outputs": [
    {
     "data": {
      "text/plain": "               label     lexeme  \\\n0          converged     movies   \n1          converged     movies   \n2          converged     movies   \n3          converged   feminine   \n4          converged   feminine   \n5          converged   feminine   \n6          converged  masculine   \n7          converged  masculine   \n8          converged  masculine   \n9          converged         10   \n10         converged         10   \n11         converged         10   \n12         converged       like   \n13         converged       like   \n14         converged       like   \n15  did-not-converge     people   \n16  did-not-converge     people   \n17  did-not-converge     people   \n18  did-not-converge      think   \n19  did-not-converge      think   \n20  did-not-converge      think   \n21  did-not-converge       just   \n22  did-not-converge       just   \n23  did-not-converge       just   \n24  did-not-converge      quote   \n25  did-not-converge      quote   \n26  did-not-converge      quote   \n27  did-not-converge       like   \n28  did-not-converge       like   \n29  did-not-converge       like   \n\n                                              example  \n0   being a good parent could be seen as tradition...  \n1                  what types of movies do you watch?  \n2   if you perspective is based entirely on the mo...  \n3   being strong and powerful may be traits associ...  \n4   there's not enough representation of feminine ...  \n5   i think a lot of it stems from the way our soc...  \n6   i actually would argue that we don't have masc...  \n7   you have very strict idea of what masculine an...  \n8               by not being traditionally masculine.  \n9        🥺   these are all when i was 9-10 years old.  \n10  if you perspective is based entirely on the mo...  \n11  the mean number of sexual partners among the m...  \n12  i feel like elliot page was, like, working thr...  \n13  but i feel like there are a lot of older movie...  \n14  like i don't think every female superhero is i...  \n15  it’s shocking people like shapiro don’t realiz...  \n16  i've gotta push back against the idea that the...  \n17  another example of a male lead who could be vu...  \n18               i don't think it's very trustworthy.  \n19              yeah, i don't think i like this take.  \n20  kind of makes you think the demand is for more...  \n21  the best truth you can obtain from this is tha...  \n22    just like k-pop kids aren't presumed to be gay.  \n23  if that person has heard that opener enough ti...  \n24  i think the quote is getting at the idea that,...  \n25  also, to quote the late nba legend moses malon...  \n26  yes, [i'm the person who originally posted the...  \n27  for some reason i read klaus as from lemony sn...  \n28  i do like characters like hiccup, the protagon...  \n29  that said one reason i liked wanda vision was ...  ",
      "text/html": "<div>\n<style scoped>\n    .dataframe tbody tr th:only-of-type {\n        vertical-align: middle;\n    }\n\n    .dataframe tbody tr th {\n        vertical-align: top;\n    }\n\n    .dataframe thead th {\n        text-align: right;\n    }\n</style>\n<table border=\"1\" class=\"dataframe\">\n  <thead>\n    <tr style=\"text-align: right;\">\n      <th></th>\n      <th>label</th>\n      <th>lexeme</th>\n      <th>example</th>\n    </tr>\n  </thead>\n  <tbody>\n    <tr>\n      <th>0</th>\n      <td>converged</td>\n      <td>movies</td>\n      <td>being a good parent could be seen as tradition...</td>\n    </tr>\n    <tr>\n      <th>1</th>\n      <td>converged</td>\n      <td>movies</td>\n      <td>what types of movies do you watch?</td>\n    </tr>\n    <tr>\n      <th>2</th>\n      <td>converged</td>\n      <td>movies</td>\n      <td>if you perspective is based entirely on the mo...</td>\n    </tr>\n    <tr>\n      <th>3</th>\n      <td>converged</td>\n      <td>feminine</td>\n      <td>being strong and powerful may be traits associ...</td>\n    </tr>\n    <tr>\n      <th>4</th>\n      <td>converged</td>\n      <td>feminine</td>\n      <td>there's not enough representation of feminine ...</td>\n    </tr>\n    <tr>\n      <th>5</th>\n      <td>converged</td>\n      <td>feminine</td>\n      <td>i think a lot of it stems from the way our soc...</td>\n    </tr>\n    <tr>\n      <th>6</th>\n      <td>converged</td>\n      <td>masculine</td>\n      <td>i actually would argue that we don't have masc...</td>\n    </tr>\n    <tr>\n      <th>7</th>\n      <td>converged</td>\n      <td>masculine</td>\n      <td>you have very strict idea of what masculine an...</td>\n    </tr>\n    <tr>\n      <th>8</th>\n      <td>converged</td>\n      <td>masculine</td>\n      <td>by not being traditionally masculine.</td>\n    </tr>\n    <tr>\n      <th>9</th>\n      <td>converged</td>\n      <td>10</td>\n      <td>🥺   these are all when i was 9-10 years old.</td>\n    </tr>\n    <tr>\n      <th>10</th>\n      <td>converged</td>\n      <td>10</td>\n      <td>if you perspective is based entirely on the mo...</td>\n    </tr>\n    <tr>\n      <th>11</th>\n      <td>converged</td>\n      <td>10</td>\n      <td>the mean number of sexual partners among the m...</td>\n    </tr>\n    <tr>\n      <th>12</th>\n      <td>converged</td>\n      <td>like</td>\n      <td>i feel like elliot page was, like, working thr...</td>\n    </tr>\n    <tr>\n      <th>13</th>\n      <td>converged</td>\n      <td>like</td>\n      <td>but i feel like there are a lot of older movie...</td>\n    </tr>\n    <tr>\n      <th>14</th>\n      <td>converged</td>\n      <td>like</td>\n      <td>like i don't think every female superhero is i...</td>\n    </tr>\n    <tr>\n      <th>15</th>\n      <td>did-not-converge</td>\n      <td>people</td>\n      <td>it’s shocking people like shapiro don’t realiz...</td>\n    </tr>\n    <tr>\n      <th>16</th>\n      <td>did-not-converge</td>\n      <td>people</td>\n      <td>i've gotta push back against the idea that the...</td>\n    </tr>\n    <tr>\n      <th>17</th>\n      <td>did-not-converge</td>\n      <td>people</td>\n      <td>another example of a male lead who could be vu...</td>\n    </tr>\n    <tr>\n      <th>18</th>\n      <td>did-not-converge</td>\n      <td>think</td>\n      <td>i don't think it's very trustworthy.</td>\n    </tr>\n    <tr>\n      <th>19</th>\n      <td>did-not-converge</td>\n      <td>think</td>\n      <td>yeah, i don't think i like this take.</td>\n    </tr>\n    <tr>\n      <th>20</th>\n      <td>did-not-converge</td>\n      <td>think</td>\n      <td>kind of makes you think the demand is for more...</td>\n    </tr>\n    <tr>\n      <th>21</th>\n      <td>did-not-converge</td>\n      <td>just</td>\n      <td>the best truth you can obtain from this is tha...</td>\n    </tr>\n    <tr>\n      <th>22</th>\n      <td>did-not-converge</td>\n      <td>just</td>\n      <td>just like k-pop kids aren't presumed to be gay.</td>\n    </tr>\n    <tr>\n      <th>23</th>\n      <td>did-not-converge</td>\n      <td>just</td>\n      <td>if that person has heard that opener enough ti...</td>\n    </tr>\n    <tr>\n      <th>24</th>\n      <td>did-not-converge</td>\n      <td>quote</td>\n      <td>i think the quote is getting at the idea that,...</td>\n    </tr>\n    <tr>\n      <th>25</th>\n      <td>did-not-converge</td>\n      <td>quote</td>\n      <td>also, to quote the late nba legend moses malon...</td>\n    </tr>\n    <tr>\n      <th>26</th>\n      <td>did-not-converge</td>\n      <td>quote</td>\n      <td>yes, [i'm the person who originally posted the...</td>\n    </tr>\n    <tr>\n      <th>27</th>\n      <td>did-not-converge</td>\n      <td>like</td>\n      <td>for some reason i read klaus as from lemony sn...</td>\n    </tr>\n    <tr>\n      <th>28</th>\n      <td>did-not-converge</td>\n      <td>like</td>\n      <td>i do like characters like hiccup, the protagon...</td>\n    </tr>\n    <tr>\n      <th>29</th>\n      <td>did-not-converge</td>\n      <td>like</td>\n      <td>that said one reason i liked wanda vision was ...</td>\n    </tr>\n  </tbody>\n</table>\n</div>"
     },
     "execution_count": 9,
     "metadata": {},
     "output_type": "execute_result"
    }
   ],
   "source": [
    "df_ml_tf_short"
   ],
   "metadata": {
    "collapsed": false,
    "pycharm": {
     "name": "#%%\n"
    }
   }
  },
  {
   "cell_type": "markdown",
   "source": [],
   "metadata": {
    "id": "WTSmj4zJvWZ4"
   }
  },
  {
   "cell_type": "code",
   "source": [
    "convert_to_string = '\\hline \\\\\\ label & term & examples \\\\\\ \\hline\\hline '\n",
    "for label in df_ml_tf_short['label'].unique():\n",
    "    l_sel = df_ml_tf_short['label'].isin([label])\n",
    "    \n",
    "    for word in df_ml_tf_short['lexeme'].loc[l_sel].unique():\n",
    "        w_sel = df_ml_tf_short['lexeme'].isin([word])\n",
    "\n",
    "        convert_to_string += ' ' + label + ' & '\n",
    "        convert_to_string += word + ' & '\n",
    "        convert_to_string += '\\\\begin{itemize} \\item ' + ' \\item '.join(df_ml_tf_short['example'].loc[l_sel & w_sel].apply(lambda x: x.replace('$', '\\$').replace('%', '\\%').replace('\\n', ' ')).values) + '\\end{itemize} \\\\\\ \\hline '\n",
    "\n",
    "file = open('/Volumes/ROY/comp_ling/datasci/SIS/ml-table.txt', 'w')\n",
    "file.write(convert_to_string)\n",
    "file.close()"
   ],
   "metadata": {
    "id": "I-Tl_coYvWz0"
   },
   "execution_count": 10,
   "outputs": []
  },
  {
   "cell_type": "markdown",
   "source": [
    "## r/MensRights"
   ],
   "metadata": {
    "collapsed": false,
    "id": "gGab8qZdvSoZ"
   }
  },
  {
   "cell_type": "code",
   "execution_count": 11,
   "outputs": [
    {
     "name": "stderr",
     "output_type": "stream",
     "text": [
      "/var/folders/bb/jfrx00ms7pv_jyvncsrvvlvm0000gn/T/ipykernel_5452/1653310678.py:17: SettingWithCopyWarning: \n",
      "A value is trying to be set on a copy of a slice from a DataFrame\n",
      "\n",
      "See the caveats in the documentation: https://pandas.pydata.org/pandas-docs/stable/user_guide/indexing.html#returning-a-view-versus-a-copy\n",
      "  dmr['y_subreddit'].loc[\n",
      "/var/folders/bb/jfrx00ms7pv_jyvncsrvvlvm0000gn/T/ipykernel_5452/1653310678.py:22: SettingWithCopyWarning: \n",
      "A value is trying to be set on a copy of a slice from a DataFrame\n",
      "\n",
      "See the caveats in the documentation: https://pandas.pydata.org/pandas-docs/stable/user_guide/indexing.html#returning-a-view-versus-a-copy\n",
      "  dmr['y_subreddit'].loc[~dmr['y_subreddit'].isin(['converged'])] = 'did-not-converge'\n"
     ]
    }
   ],
   "source": [
    "if cross_posts:\n",
    "    dmr = df.loc[\n",
    "        df['x_subreddit'].isin([1])\n",
    "        & df['y_subreddit'].isin([1])\n",
    "        & df['comment_delta'].isin([-1,1])\n",
    "    ]\n",
    "\n",
    "    dmr['y_subreddit'].loc[dmr['x_post_id'] == dmr['y_post_id']] = 'converged'\n",
    "    dmr['y_subreddit'].loc[dmr['x_post_id'] != dmr['y_post_id']] = 'did-not-converge'\n",
    "\n",
    "elif both_crit:\n",
    "    dmr = df.loc[\n",
    "        df['x_subreddit'].isin([1])\n",
    "        & df['y_subreddit'].isin([1])\n",
    "    ]\n",
    "\n",
    "    dmr['y_subreddit'].loc[\n",
    "        (dmr['x_post_id'] == dmr['y_post_id']) \n",
    "        & df['comment_delta'].isin([-1,1])\n",
    "    ] = 'converged'\n",
    "    \n",
    "    dmr['y_subreddit'].loc[~dmr['y_subreddit'].isin(['converged'])] = 'did-not-converge'\n",
    "\n",
    "else:\n",
    "    dmr = df.loc[\n",
    "        df['x_subreddit'].isin([1])\n",
    "        & df['y_subreddit'].isin([1])\n",
    "        & df['same_post'].isin([2])\n",
    "    ]\n",
    "    dmr['y_subreddit'].loc[dmr['comment_delta'].isin([-1,1])] = 'converged'\n",
    "    dmr['y_subreddit'].loc[~dmr['comment_delta'].isin([-1,1])] = 'did-not-converge'"
   ],
   "metadata": {
    "pycharm": {
     "name": "#%%\n"
    },
    "id": "L7SkHikHvSoZ",
    "outputId": "05ed6e4d-db1e-4b78-84ad-e11a3be61c1a"
   }
  },
  {
   "cell_type": "markdown",
   "source": [
    "set up the data for TF-IDF"
   ],
   "metadata": {
    "collapsed": false,
    "id": "YeYSpFmdvSoa"
   }
  },
  {
   "cell_type": "code",
   "execution_count": 12,
   "outputs": [],
   "source": [
    "dmr_ = []\n",
    "for xid in dmr['x'].unique():\n",
    "    text = dft['body'].loc[int(xid)]\n",
    "    \n",
    "    sel = dmr['x'].isin([xid])\n",
    "    \n",
    "    minima = dmr['avgH'].loc[sel].values.argmin()\n",
    "    label = dmr['y_subreddit'].loc[sel].values[minima]\n",
    "    dmr_ +=[[xid, text, label]]\n",
    "dmr_ = pd.DataFrame(np.array(dmr_), columns=['x', 'body', 'label'])"
   ],
   "metadata": {
    "pycharm": {
     "name": "#%%\n"
    },
    "id": "knlNIfm5vSoa"
   }
  },
  {
   "cell_type": "code",
   "execution_count": 13,
   "outputs": [],
   "source": [
    "mr_tfidf = TFIDF(dmr_, 'body', 'label')"
   ],
   "metadata": {
    "pycharm": {
     "name": "#%%\n"
    },
    "id": "oo05bgSDvSoa"
   }
  },
  {
   "cell_type": "code",
   "execution_count": 14,
   "outputs": [
    {
     "data": {
      "text/plain": "{'converged': [('good', 0.043084396818067215),\n  ('require', 0.02879498050999408),\n  ('people', 0.028373382080375573),\n  ('single', 0.02496863322784036),\n  ('boundaries', 0.023476640128053495)],\n 'did-not-converge': [('men', 0.015613955772532257),\n  ('just', 0.015132880805332934),\n  ('like', 0.015099073591934938),\n  ('don', 0.014977556605801193),\n  ('women', 0.014336620017402912)]}"
     },
     "execution_count": 14,
     "metadata": {},
     "output_type": "execute_result"
    }
   ],
   "source": [
    "mr_tfidf.extract_top_n_words_per_topic(5)"
   ],
   "metadata": {
    "pycharm": {
     "name": "#%%\n"
    },
    "id": "B3NgRssNvSoa",
    "outputId": "1cba6512-59e8-466d-e2ab-fd5c89ba2466"
   }
  },
  {
   "cell_type": "code",
   "execution_count": 14,
   "outputs": [],
   "source": [
    "df_mr_tf_long, df_mr_tf_short = [],[]\n",
    "for k,v in mr_tfidf.extract_top_n_words_per_topic(5).items():\n",
    "    sub = dmr_.loc[dmr_['label'].isin([k])]\n",
    "    for w in v:\n",
    "        sel = sub['body'].apply(lambda x: w[0] in x)\n",
    "        texts = sub['body'].loc[sel].values\n",
    "\n",
    "        body = [[sent for sent in sent_tokenizer.tokenize(text) if w[0] in sent][0] for text in texts]\n",
    "\n",
    "        if len(body) > 3:\n",
    "            body = np.random.choice(body, size=(3,), replace=False)\n",
    "\n",
    "        df_mr_tf_short += [[k, w[0], sent.replace('\\n', ' ').replace('<QUOTE>', '')] for sent in body]\n",
    "        df_mr_tf_long += [[k, w[0], text.replace('\\n', ' ').replace('<QUOTE>', '')] for text in texts]\n",
    "\n",
    "df_mr_tf_long, df_mr_tf_short = np.array(df_mr_tf_long), np.array(df_mr_tf_short)\n",
    "df_mr_tf_long, df_mr_tf_short = pd.DataFrame(df_mr_tf_long, columns=['label', 'lexeme', 'example']), pd.DataFrame(df_mr_tf_short, columns=['label', 'lexeme', 'example'])"
   ],
   "metadata": {
    "pycharm": {
     "name": "#%%\n"
    },
    "id": "uh99nD6WvSoa"
   }
  },
  {
   "cell_type": "markdown",
   "source": [],
   "metadata": {
    "collapsed": false,
    "pycharm": {
     "name": "#%% md\n"
    },
    "id": "LEI9nXM1vSoa"
   }
  },
  {
   "cell_type": "code",
   "source": [
    "convert_to_string = '\\hline \\\\\\ label & term & examples \\\\\\ \\hline\\hline '\n",
    "for label in df_mr_tf_short['label'].unique():\n",
    "    l_sel = df_mr_tf_short['label'].isin([label])\n",
    "    \n",
    "    for word in df_mr_tf_short['lexeme'].loc[l_sel].unique():\n",
    "        w_sel = df_mr_tf_short['lexeme'].isin([word])\n",
    "\n",
    "        convert_to_string += ' ' + label + ' & '\n",
    "        convert_to_string += word + ' & '\n",
    "        convert_to_string += '\\\\begin{itemize} \\item ' + ' \\item '.join(df_mr_tf_short['example'].loc[l_sel & w_sel].apply(lambda x: x.replace('$', '\\$').replace('%', '\\%').replace('\\n', ' ')).values) + '\\end{itemize} \\\\\\ \\hline '\n",
    "\n",
    "file = open('/Volumes/ROY/comp_ling/datasci/SIS/mr-table.txt', 'w')\n",
    "file.write(convert_to_string)\n",
    "file.close()"
   ],
   "metadata": {
    "id": "kuvpii1exD-A"
   },
   "execution_count": 15,
   "outputs": []
  },
  {
   "cell_type": "markdown",
   "source": [],
   "metadata": {
    "collapsed": false,
    "pycharm": {
     "name": "#%% md\n"
    },
    "id": "kOFzSRIh03qM"
   }
  }
 ],
 "metadata": {
  "kernelspec": {
   "display_name": "Python 3",
   "language": "python",
   "name": "python3"
  },
  "language_info": {
   "codemirror_mode": {
    "name": "ipython",
    "version": 2
   },
   "file_extension": ".py",
   "mimetype": "text/x-python",
   "name": "python",
   "nbconvert_exporter": "python",
   "pygments_lexer": "ipython2",
   "version": "2.7.6"
  },
  "colab": {
   "provenance": []
  }
 },
 "nbformat": 4,
 "nbformat_minor": 0
}