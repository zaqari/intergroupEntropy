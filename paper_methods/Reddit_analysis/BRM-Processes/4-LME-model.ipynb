{
 "cells": [
  {
   "cell_type": "markdown",
   "metadata": {
    "collapsed": true,
    "pycharm": {
     "name": "#%% md\n"
    },
    "id": "aKg3Iz0KRnMe"
   },
   "source": [
    "# Group-by-Group Analyses of Social Factors Influencing Entropy Values"
   ]
  },
  {
   "cell_type": "markdown",
   "source": [
    "### 1. Importing Data"
   ],
   "metadata": {
    "collapsed": false
   }
  },
  {
   "cell_type": "code",
   "execution_count": null,
   "outputs": [],
   "source": [
    "import numpy as np\n",
    "import pandas as pd\n",
    "import os\n",
    "\n",
    "data_file = 'data/'+os.listdir('data/')[-1]\n",
    "\n",
    "df = pd.read_csv(data_file)\n",
    "df = df.loc[df['x_user'] != df['y_user']]\n",
    "df = df.loc[~df['x_user'].isin([np.nan]) & ~df['y_user'].isin([np.nan])]\n",
    "df['n'] = df['n'].astype(int)\n",
    "df = df.loc[(df['n'] > 5)]\n",
    "# df = df.loc[df['y_user'].isin(df['x_user'].unique())]"
   ],
   "metadata": {
    "pycharm": {
     "name": "#%%\n"
    },
    "id": "MkGpg_xrRnMg",
    "outputId": "acc40654-10c4-43f2-b4a1-89377c4e4308"
   }
  },
  {
   "cell_type": "markdown",
   "source": [
    "We need to set up a few additional columns as well."
   ],
   "metadata": {
    "collapsed": false
   }
  },
  {
   "cell_type": "code",
   "execution_count": null,
   "outputs": [],
   "source": [
    "# Calculate the distance between comments\n",
    "#  (a rough estimate of time. Not used in current analysis)\n",
    "df['comment_delta'] = (df['x_comment_no'] - df['y_comment_no'])\n",
    "df['comment_delta_abs'] = df['comment_delta'].abs()\n",
    "\n",
    "# convert user ids to numerical indicator\n",
    "user_dic = {x:i for i,x in enumerate(np.unique(df[['x_user', 'y_user']].values.astype(str)))}\n",
    "df['x_user'] = df['x_user'].apply(lambda x: user_dic[x])\n",
    "df['y_user'] = df['y_user'].apply(lambda x: user_dic[x])\n",
    "\n",
    "# convert subreddit ids to numerical indicator\n",
    "#   AND check if two comments are from same subreddit\n",
    "subreddit_dic = {x:i for i,x in enumerate(df['x_subreddit'].unique())}\n",
    "df['x_subreddit'] = df['x_subreddit'].apply(lambda x: subreddit_dic[x])\n",
    "df['y_subreddit'] = df['y_subreddit'].apply(lambda x: subreddit_dic[x])\n",
    "df['same_subreddit'] = (df['x_subreddit'] == df['y_subreddit']).astype(int) + 1\n",
    "\n",
    "# Check if x and y are from same post.\n",
    "df['same_post'] = (df['x_post_id'] == df['y_post_id'])\n",
    "\n",
    "# Calculate absolute difference in time\n",
    "df['t_delta'] = (df['xtime'] - df['ytime'])\n",
    "df['t_delta_abs'] = df['t_delta'].abs()\n",
    "\n",
    "# Calculate the average entropy for any token in an utterance.\n",
    "df['avgH'] = df['H']/df['n']"
   ],
   "metadata": {
    "collapsed": false,
    "pycharm": {
     "name": "#%%\n"
    }
   }
  },
  {
   "cell_type": "code",
   "execution_count": null,
   "outputs": [],
   "source": [
    "print(len(df))\n",
    "df[['x_subreddit', 'y_subreddit']].value_counts(sort=False)"
   ],
   "metadata": {
    "collapsed": false,
    "pycharm": {
     "name": "#%%\n"
    }
   }
  },
  {
   "cell_type": "markdown",
   "source": [],
   "metadata": {
    "collapsed": false,
    "id": "L2pQYc8pRnMi"
   }
  },
  {
   "cell_type": "markdown",
   "source": [
    "### 2. Analyses & Results"
   ],
   "metadata": {
    "collapsed": false,
    "id": "yWWpKlpVRnMi"
   }
  },
  {
   "cell_type": "code",
   "source": [
    "# import scipy.stats as stats\n",
    "# import statsmodels.api as sm\n",
    "import statsmodels.formula.api as smf\n",
    "from mod.vis.latex_table import latex_table, format_num_string\n",
    "\n",
    "import seaborn as sns\n",
    "import matplotlib.pyplot as plt\n",
    "sns.set_style('darkgrid')\n",
    "\n",
    "print(subreddit_dic)"
   ],
   "metadata": {
    "pycharm": {
     "name": "#%%\n"
    },
    "id": "JgSdfig9RnMi",
    "outputId": "1f9481d3-075f-4f14-99d6-af28cbae43b5"
   },
   "execution_count": null,
   "outputs": []
  },
  {
   "cell_type": "markdown",
   "source": [
    "#### 2.1 r/MensLib\n",
    "\n",
    "Let's kick it off with MensLib (because I'm interested in this group specifically)"
   ],
   "metadata": {
    "collapsed": false,
    "id": "bGEA96O-RnMj"
   }
  },
  {
   "cell_type": "markdown",
   "source": [
    "Start by restricting our analyses to only those instances in which x and y are from r/MensLib (id=2)."
   ],
   "metadata": {
    "collapsed": false
   }
  },
  {
   "cell_type": "code",
   "execution_count": null,
   "outputs": [],
   "source": [
    "data2 = df.loc[\n",
    "    df['x_subreddit'].isin([2])\n",
    "    & df['y_subreddit'].isin([2]) # did this too with all subs in and + (2|same_subreddit)\n",
    "]"
   ],
   "metadata": {
    "pycharm": {
     "name": "#%%\n"
    },
    "id": "u1j75UudRnMj"
   }
  },
  {
   "cell_type": "code",
   "execution_count": null,
   "outputs": [],
   "source": [
    "model = \"avgH ~ x_comment_ups*y_comment_ups*same_post*t_delta_abs + (1|x_user) + (1|y_user)\"\n",
    "\n",
    "md = smf.mixedlm(model, data=data2, groups=data2['x'])\n",
    "mdf = md.fit()\n",
    "# print(mdf.summary())"
   ],
   "metadata": {
    "collapsed": false,
    "pycharm": {
     "name": "#%%\n"
    }
   }
  },
  {
   "cell_type": "code",
   "execution_count": null,
   "outputs": [],
   "source": [
    "reporting = pd.DataFrame()\n",
    "reporting['coefs'] = mdf.params\n",
    "reporting['stat'] = mdf.tvalues\n",
    "reporting['p'] = mdf.pvalues\n",
    "reporting"
   ],
   "metadata": {
    "pycharm": {
     "name": "#%%\n"
    },
    "id": "fQI8IVJARnMk",
    "outputId": "af2de040-4386-4067-c1b6-fd1ca6ecb56c"
   }
  },
  {
   "cell_type": "code",
   "execution_count": null,
   "outputs": [],
   "source": [
    "for col in list(reporting):\n",
    "    reporting[col] = reporting[col].apply(lambda x: format_num_string(np.format_float_scientific(x, precision=3)))\n",
    "\n",
    "reporting['var'] = reporting.index.values\n",
    "reporting['var'] = reporting['var'].apply(lambda x: x.replace('_', '-'))\n",
    "\n",
    "table = latex_table(reporting[['var', 'coefs', 'stat', 'p']], add_hline=True)\n",
    "with open('/Volumes/ROY/comp_ling/datasci/SIS/data/reddit_feminism/lme-tables/ml-table.txt', 'w') as f:\n",
    "    f.write(table)\n",
    "    f.close()"
   ],
   "metadata": {
    "collapsed": false,
    "pycharm": {
     "name": "#%%\n"
    }
   }
  },
  {
   "cell_type": "markdown",
   "source": [
    "creating a relplot using comment delta (because using t-values is obscenely noisy)"
   ],
   "metadata": {
    "collapsed": false
   }
  },
  {
   "cell_type": "code",
   "execution_count": null,
   "outputs": [],
   "source": [
    "data2_ = data2.loc[\n",
    "    ((data2['comment_delta'] > -16) & (data2['comment_delta'] < 16))\n",
    "    & (data2['comment_delta'] != 0)\n",
    "]\n",
    "data2_['y_subreddit'].loc[data2_['x_post_id'] == data2_['y_post_id']] = 'same-post'\n",
    "data2_['y_subreddit'].loc[data2_['x_post_id'] != data2_['y_post_id']] = 'baseline'\n",
    "\n",
    "ax = sns.catplot(data=data2_.loc[~data2_['y_subreddit'].isin([1,0])], y='avgH', hue='y_subreddit', x='comment_delta', kind='point',capsize=.2, errorbar=None)\n",
    "plt.show()"
   ],
   "metadata": {
    "pycharm": {
     "name": "#%%\n"
    },
    "id": "ga_Y3NcYRnMk",
    "outputId": "7243dc19-c997-41f3-ec1a-26a6496abad8"
   }
  },
  {
   "cell_type": "markdown",
   "source": [
    "Confirming the directionality of the coeficcients calculated in LME model compared to covariance"
   ],
   "metadata": {
    "collapsed": false
   }
  },
  {
   "cell_type": "code",
   "execution_count": null,
   "outputs": [],
   "source": [
    "pd.DataFrame.cov(data2[['avgH', 'x_comment_ups', 'y_comment_ups', 't_delta_abs', 'same_post', 'same_subreddit']])"
   ],
   "metadata": {
    "pycharm": {
     "name": "#%%\n"
    },
    "id": "w0qEidF5RnMk",
    "outputId": "38831ff3-7386-4152-99b1-1e7521e33bca"
   }
  },
  {
   "cell_type": "markdown",
   "source": [
    "#### 2.2 r/MensRights\n",
    "\n",
    "alright, what about MensRights?"
   ],
   "metadata": {
    "collapsed": false,
    "id": "kP8lxa7aRnMk"
   }
  },
  {
   "cell_type": "markdown",
   "source": [
    "Start by restricting analyses to only those comparisons where x and y are both from r/MensRights (id=1)."
   ],
   "metadata": {
    "collapsed": false
   }
  },
  {
   "cell_type": "code",
   "execution_count": null,
   "outputs": [],
   "source": [
    "data1 = df.loc[\n",
    "    df['x_subreddit'].isin([1])\n",
    "    # & df['y_subreddit'].isin([1,0])\n",
    "    & df['y_subreddit'].isin([1]) # did this too with all subs in and + (2|same_subreddit)\n",
    "\n",
    "]"
   ],
   "metadata": {
    "pycharm": {
     "name": "#%%\n"
    },
    "id": "5rqZbbyIRnMk"
   }
  },
  {
   "cell_type": "code",
   "execution_count": null,
   "outputs": [],
   "source": [
    "model = \"avgH ~ x_comment_ups*y_comment_ups*same_post*t_delta_abs + (1|x_user) + (1|y_user)\"\n",
    "\n",
    "md = smf.mixedlm(model, data=data1, groups=data1['x'])\n",
    "mdf = md.fit()"
   ],
   "metadata": {
    "pycharm": {
     "name": "#%%\n"
    },
    "id": "R8ZQth9PRnMl",
    "outputId": "a6fc4815-3efd-4eb2-86ab-307f28c9cdaf"
   }
  },
  {
   "cell_type": "code",
   "execution_count": null,
   "outputs": [],
   "source": [
    "reporting = pd.DataFrame()\n",
    "reporting['coefs'] = mdf.params\n",
    "reporting['stat'] = mdf.tvalues\n",
    "reporting['p'] = mdf.pvalues\n",
    "reporting"
   ],
   "metadata": {
    "pycharm": {
     "name": "#%%\n"
    },
    "id": "YPhg72a0RnMl",
    "outputId": "e04090ba-072c-4a00-e52b-c57505284cf2"
   }
  },
  {
   "cell_type": "code",
   "execution_count": null,
   "outputs": [],
   "source": [
    "for col in list(reporting):\n",
    "    reporting[col] = reporting[col].apply(lambda x: format_num_string(np.format_float_scientific(x, precision=3)))\n",
    "\n",
    "reporting['var'] = reporting.index.values\n",
    "reporting['var'] = reporting['var'].apply(lambda x: x.replace('_', '-'))\n",
    "\n",
    "table = latex_table(reporting[['var', 'coefs', 'stat', 'p']], add_hline=True)\n",
    "with open('/Volumes/ROY/comp_ling/datasci/SIS/data/reddit_feminism/lme-tables/mr-table.txt', 'w') as f:\n",
    "    f.write(table)\n",
    "    f.close()"
   ],
   "metadata": {
    "collapsed": false,
    "pycharm": {
     "name": "#%%\n"
    }
   }
  },
  {
   "cell_type": "markdown",
   "source": [
    "And we'll create a relplot for entropy values using comment_delta (again, time differences are too noisy for a good relplot)"
   ],
   "metadata": {
    "collapsed": false
   }
  },
  {
   "cell_type": "code",
   "execution_count": null,
   "outputs": [],
   "source": [
    "data1_ = data1.loc[\n",
    "    ((data1['comment_delta'] > -16) & (data1['comment_delta'] < 16))\n",
    "    & (data1['comment_delta'] != 0)\n",
    "]\n",
    "data1_['y_subreddit'].loc[data1_['x_post_id'] == data1_['y_post_id']] = 'same-post'\n",
    "data1_['y_subreddit'].loc[data1_['x_post_id'] != data1_['y_post_id']] = 'baseline'\n",
    "ax = sns.catplot(data=data1_.loc[~data1_['y_subreddit'].isin([0,2])], y='avgH', hue='y_subreddit', x='comment_delta', kind='point', capsize=.2, errorbar=None)\n",
    "plt.show()"
   ],
   "metadata": {
    "pycharm": {
     "name": "#%%\n"
    },
    "id": "BeRlPAoNRnMl",
    "outputId": "b15c470a-e783-4baf-f642-bfb76c014d93"
   }
  },
  {
   "cell_type": "markdown",
   "source": [
    "And check the covariance."
   ],
   "metadata": {
    "collapsed": false
   }
  },
  {
   "cell_type": "code",
   "execution_count": null,
   "outputs": [],
   "source": [
    "pd.DataFrame.cov(data1_[['avgH', 'x_comment_ups', 'y_comment_ups', 'comment_delta_abs', 'same_post', 'same_subreddit']])"
   ],
   "metadata": {
    "pycharm": {
     "name": "#%%\n"
    },
    "id": "0nP7AC03RnMl",
    "outputId": "8682fe0f-991e-424a-906c-d3e545110306"
   }
  },
  {
   "cell_type": "markdown",
   "source": [
    "#### 2.3 Comparison of r/MensLib to r/Feminism and r/MensRights\n"
   ],
   "metadata": {
    "collapsed": false,
    "id": "n312XxfVRnMl"
   }
  },
  {
   "cell_type": "code",
   "execution_count": null,
   "outputs": [],
   "source": [
    "from scipy.stats import ttest_ind as ttest\n",
    "\n",
    "data2 = df.loc[\n",
    "    df['y_subreddit'].isin([1,0])\n",
    "    & df['x_subreddit'].isin([2])\n",
    "    & (df['t_delta_abs']<=(24*60*60)) # compare only between comments written within the same day as one another.\n",
    "]\n",
    "print(data2['y_subreddit'].value_counts())\n",
    "\n",
    "print(len(data2))\n",
    "\n",
    "ttest(\n",
    "    data2['avgH'].loc[data2['y_subreddit'].isin([0])].values, # r/Feminism\n",
    "    data2['avgH'].loc[data2['y_subreddit'].isin([1])].values # r/MensRights\n",
    ")"
   ],
   "metadata": {
    "pycharm": {
     "name": "#%%\n"
    },
    "id": "Y0kZwV7zRnMl",
    "outputId": "6e435b7e-f0a2-4a4d-ed98-a579bf05f3ef"
   }
  },
  {
   "cell_type": "code",
   "execution_count": null,
   "outputs": [],
   "source": [
    "data2_ = data2.loc[\n",
    "    ((data2['comment_delta'] > -16) & (data2['comment_delta'] < 16))\n",
    "    & (data2['comment_delta'] != 0)\n",
    "]\n",
    "data2_['y_subreddit'].loc[data2_['y_subreddit'].isin([1])] = 'r/MensRights'\n",
    "data2_['y_subreddit'].loc[data2_['y_subreddit'].isin([0])] = 'r/Feminism'\n",
    "\n",
    "ax = sns.catplot(data=data2_, y='avgH', hue='y_subreddit', x='comment_delta', kind='point', capsize=.2, errorbar=None)\n",
    "plt.show()"
   ],
   "metadata": {
    "pycharm": {
     "name": "#%%\n"
    },
    "id": "Lzo91QXaRnMm",
    "outputId": "33136fcd-72b5-4d10-e847-6b1c5a53b195"
   }
  },
  {
   "cell_type": "markdown",
   "source": [
    "#### 2.4 Comparison r/Feminism to r/MensLib and r/MensRights\n"
   ],
   "metadata": {
    "collapsed": false,
    "id": "q_y9jk52RnMm"
   }
  },
  {
   "cell_type": "code",
   "execution_count": null,
   "outputs": [],
   "source": [
    "from scipy.stats import ttest_ind as ttest\n",
    "\n",
    "data0 = df.loc[\n",
    "    df['y_subreddit'].isin([1,2])\n",
    "    & df['x_subreddit'].isin([0])\n",
    "    & (df['t_delta_abs']<=(24*60*60)) # compare only between comments written within the same day as one another.\n",
    "]\n",
    "print(data0['y_subreddit'].value_counts())\n",
    "\n",
    "print(len(data0))\n",
    "\n",
    "ttest(\n",
    "    data0['avgH'].loc[data0['y_subreddit'].isin([2])].values, # r/MensLib\n",
    "    data0['avgH'].loc[data0['y_subreddit'].isin([1])].values # r/MensRights\n",
    ")"
   ],
   "metadata": {
    "pycharm": {
     "name": "#%%\n"
    },
    "id": "JkB6MA_ZRnMm",
    "outputId": "f57366dc-e44b-4858-a406-984c8c70a18c"
   }
  },
  {
   "cell_type": "code",
   "execution_count": null,
   "outputs": [],
   "source": [
    "data0_ = data0.loc[\n",
    "    ((data0['comment_delta'] > -16) & (data0['comment_delta'] < 16))\n",
    "    & (data0['comment_delta'] != 0)\n",
    "]\n",
    "data0_['y_subreddit'].loc[data0_['y_subreddit'].isin([1])] = 'r/MensRights'\n",
    "data0_['y_subreddit'].loc[data0_['y_subreddit'].isin([2])] = 'r/MensLib'\n",
    "\n",
    "\n",
    "ax = sns.catplot(data=data0_, y='avgH', hue='y_subreddit', x='comment_delta', kind='point', capsize=.2, errorbar=None)\n",
    "plt.show()"
   ],
   "metadata": {
    "pycharm": {
     "name": "#%%\n"
    },
    "id": "0Nj5dNv9RnMm",
    "outputId": "2110056b-7f62-4adb-b73f-dd12db1b80a9"
   }
  },
  {
   "cell_type": "markdown",
   "source": [],
   "metadata": {
    "collapsed": false,
    "pycharm": {
     "name": "#%% md\n"
    },
    "id": "RUDv0unRRnMm"
   }
  },
  {
   "cell_type": "markdown",
   "source": [],
   "metadata": {
    "collapsed": false,
    "id": "Zi4nLg8GRnMm"
   }
  }
 ],
 "metadata": {
  "kernelspec": {
   "display_name": "Python 3",
   "language": "python",
   "name": "python3"
  },
  "language_info": {
   "codemirror_mode": {
    "name": "ipython",
    "version": 2
   },
   "file_extension": ".py",
   "mimetype": "text/x-python",
   "name": "python",
   "nbconvert_exporter": "python",
   "pygments_lexer": "ipython2",
   "version": "2.7.6"
  },
  "colab": {
   "provenance": []
  }
 },
 "nbformat": 4,
 "nbformat_minor": 0
}